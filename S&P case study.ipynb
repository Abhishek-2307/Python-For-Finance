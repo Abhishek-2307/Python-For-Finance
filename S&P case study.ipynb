{
 "cells": [
  {
   "cell_type": "markdown",
   "metadata": {},
   "source": [
    "### Importing Modules for Analysis"
   ]
  },
  {
   "cell_type": "code",
   "execution_count": 1,
   "metadata": {
    "collapsed": true
   },
   "outputs": [],
   "source": [
    "import pandas as pd\n",
    "import numpy as np\n",
    "%matplotlib inline\n",
    "import matplotlib.pyplot as plt"
   ]
  },
  {
   "cell_type": "code",
   "execution_count": 21,
   "metadata": {
    "collapsed": true
   },
   "outputs": [],
   "source": [
    "sector = pd.read_csv(\"sector.csv\")"
   ]
  },
  {
   "cell_type": "code",
   "execution_count": 22,
   "metadata": {},
   "outputs": [
    {
     "data": {
      "text/html": [
       "<div>\n",
       "<style>\n",
       "    .dataframe thead tr:only-child th {\n",
       "        text-align: right;\n",
       "    }\n",
       "\n",
       "    .dataframe thead th {\n",
       "        text-align: left;\n",
       "    }\n",
       "\n",
       "    .dataframe tbody tr th {\n",
       "        vertical-align: top;\n",
       "    }\n",
       "</style>\n",
       "<table border=\"1\" class=\"dataframe\">\n",
       "  <thead>\n",
       "    <tr style=\"text-align: right;\">\n",
       "      <th></th>\n",
       "      <th>Name</th>\n",
       "      <th>Sector</th>\n",
       "      <th>Price</th>\n",
       "      <th>EPS</th>\n",
       "    </tr>\n",
       "  </thead>\n",
       "  <tbody>\n",
       "    <tr>\n",
       "      <th>0</th>\n",
       "      <td>Apple Inc</td>\n",
       "      <td>Information Technology</td>\n",
       "      <td>170.12</td>\n",
       "      <td>9.20</td>\n",
       "    </tr>\n",
       "    <tr>\n",
       "      <th>1</th>\n",
       "      <td>Abbvie Inc</td>\n",
       "      <td>Health Care</td>\n",
       "      <td>93.29</td>\n",
       "      <td>5.31</td>\n",
       "    </tr>\n",
       "    <tr>\n",
       "      <th>2</th>\n",
       "      <td>Abbott Laboratories</td>\n",
       "      <td>Health Care</td>\n",
       "      <td>55.28</td>\n",
       "      <td>2.41</td>\n",
       "    </tr>\n",
       "    <tr>\n",
       "      <th>3</th>\n",
       "      <td>Accenture Plc</td>\n",
       "      <td>Information Technology</td>\n",
       "      <td>145.30</td>\n",
       "      <td>5.91</td>\n",
       "    </tr>\n",
       "    <tr>\n",
       "      <th>4</th>\n",
       "      <td>Allergan Plc</td>\n",
       "      <td>Health Care</td>\n",
       "      <td>171.81</td>\n",
       "      <td>15.42</td>\n",
       "    </tr>\n",
       "  </tbody>\n",
       "</table>\n",
       "</div>"
      ],
      "text/plain": [
       "                  Name                  Sector   Price    EPS\n",
       "0            Apple Inc  Information Technology  170.12   9.20\n",
       "1           Abbvie Inc             Health Care   93.29   5.31\n",
       "2  Abbott Laboratories             Health Care   55.28   2.41\n",
       "3        Accenture Plc  Information Technology  145.30   5.91\n",
       "4         Allergan Plc             Health Care  171.81  15.42"
      ]
     },
     "execution_count": 22,
     "metadata": {},
     "output_type": "execute_result"
    }
   ],
   "source": [
    "sector.head()"
   ]
  },
  {
   "cell_type": "code",
   "execution_count": 23,
   "metadata": {},
   "outputs": [
    {
     "name": "stdout",
     "output_type": "stream",
     "text": [
      "0              Apple Inc\n",
      "1             Abbvie Inc\n",
      "2    Abbott Laboratories\n",
      "3          Accenture Plc\n",
      "4           Allergan Plc\n",
      "Name: Name, dtype: object\n"
     ]
    }
   ],
   "source": [
    "# Print information on last company\n",
    "print(sector.iloc[0:5,0])"
   ]
  },
  {
   "cell_type": "code",
   "execution_count": 24,
   "metadata": {},
   "outputs": [
    {
     "name": "stdout",
     "output_type": "stream",
     "text": [
      "[   18.49130435    17.56873823    22.93775934    24.58544839    11.14202335\n",
      "    23.70517928    14.8011782     13.42845787   285.99492386    17.99233716\n",
      "    27.18358974    15.25714286    14.44742937    15.19596542    21.99767981\n",
      "    20.43243243    28.81875994    13.8477842     24.75135135    16.075\n",
      "   215.0310559     25.14285714    17.88613861    11.64379947  2494.5\n",
      "    29.41924399    16.76497696    12.29071804    32.16806723    24.02313625\n",
      "    18.07368421    19.91235955    19.43169399    23.31007752    16.66129032\n",
      "     7.20833333    34.51637765    18.2829555     15.84375       16.21875\n",
      "    19.73187686    14.44354839     7.47703549     7.22778675    34.09708738\n",
      "    34.6196853     12.3984375     56.94520548    24.44396552    21.30071942\n",
      "    11.08345534    14.11320755    19.40336134    14.20461095    22.63764045\n",
      "    26.21538462    24.12698413    20.28606357    24.60141509    18.76267281\n",
      "    34.78654292    26.0953125     20.72682927    16.95522388     9.97115385\n",
      "    25.97653631    21.04746835    21.37251356    13.81491003    13.5900277\n",
      "    24.40532544    23.34332834    25.30212766    19.20392157   194.77142857\n",
      "    23.66997985    22.55859375    14.152         22.19346734    23.01781737\n",
      "    54.67857143    17.67989418    24.36772487    27.45410628    47.69767442\n",
      "    18.58909091    26.32231405    11.80546075    11.71805274    14.62376238\n",
      "    24.28325123    21.84895833    20.4204947     18.92976589    15.39465875\n",
      "    17.68126888    31.68678161    12.22666667    13.7745098     13.04830918\n",
      "    22.03669725    22.55898876]\n"
     ]
    }
   ],
   "source": [
    "# Convert lists to arrays\n",
    "prices_array = np.array(sector['Price'])\n",
    "earnings_array = np.array(sector['EPS'])\n",
    "\n",
    "# Calculate P/E ratio \n",
    "pe = prices_array / earnings_array\n",
    "print(pe)"
   ]
  },
  {
   "cell_type": "code",
   "execution_count": 28,
   "metadata": {},
   "outputs": [
    {
     "name": "stdout",
     "output_type": "stream",
     "text": [
      "0                           Apple Inc\n",
      "3                       Accenture Plc\n",
      "26                  Cisco Systems Inc\n",
      "36                       Facebook Inc\n",
      "44                   Alphabet Class C\n",
      "45                   Alphabet Class A\n",
      "50    International Business Machines\n",
      "51                         Intel Corp\n",
      "60                     Mastercard Inc\n",
      "70                     Microsoft Corp\n",
      "73                        Oracle Corp\n",
      "80                    Paypal Holdings\n",
      "81                       Qualcomm Inc\n",
      "90                  Texas Instruments\n",
      "96                           Visa Inc\n",
      "Name: Name, dtype: object\n",
      "[ 18.49130435  24.58544839  16.76497696  34.51637765  34.09708738\n",
      "  34.6196853   11.08345534  14.11320755  34.78654292  24.40532544\n",
      "  19.20392157  54.67857143  17.67989418  24.28325123  31.68678161]\n"
     ]
    }
   ],
   "source": [
    "sectors = np.array(sector['Sector'])\n",
    "# Create boolean array\n",
    "boolean_array = (sectors == 'Information Technology')\n",
    "\n",
    "# Subset sector-specific data\n",
    "it_names = sector['Name'][boolean_array]\n",
    "it_pe = pe[boolean_array]\n",
    "\n",
    "# Display sector names\n",
    "print(it_names)\n",
    "print(it_pe)"
   ]
  },
  {
   "cell_type": "code",
   "execution_count": 29,
   "metadata": {},
   "outputs": [
    {
     "name": "stdout",
     "output_type": "stream",
     "text": [
      "21           Colgate-Palmolive Company\n",
      "25                    Costco Wholesale\n",
      "27                            CVS Corp\n",
      "54                      Kraft Heinz Co\n",
      "56                   Coca-Cola Company\n",
      "62                 Mondelez Intl Cmn A\n",
      "66                        Altria Group\n",
      "76                         Pepsico Inc\n",
      "78            Procter & Gamble Company\n",
      "79     Philip Morris International Inc\n",
      "98            Walgreens Boots Alliance\n",
      "100                    Wal-Mart Stores\n",
      "Name: Name, dtype: object\n",
      "[ 25.14285714  29.41924399  12.29071804  22.63764045  24.12698413\n",
      "  20.72682927  21.04746835  22.55859375  22.19346734  23.01781737\n",
      "  13.7745098   22.03669725]\n"
     ]
    }
   ],
   "source": [
    "\n",
    "# Create boolean array\n",
    "boolean_array = (sectors == 'Consumer Staples')\n",
    "\n",
    "# Subset sector-specific data\n",
    "cs_names = sector['Name'][boolean_array]\n",
    "cs_pe = pe[boolean_array]\n",
    "\n",
    "# Display sector names\n",
    "print(cs_names)\n",
    "print(cs_pe)"
   ]
  },
  {
   "cell_type": "markdown",
   "metadata": {},
   "source": [
    "#### Summarizing sector data"
   ]
  },
  {
   "cell_type": "code",
   "execution_count": 30,
   "metadata": {},
   "outputs": [
    {
     "name": "stdout",
     "output_type": "stream",
     "text": [
      "26.3330554204\n",
      "10.8661467927\n"
     ]
    }
   ],
   "source": [
    "# Calculate mean and standard deviation\n",
    "it_pe_mean = np.mean(it_pe)\n",
    "it_pe_std = np.std(it_pe)\n",
    "\n",
    "print(it_pe_mean)\n",
    "print(it_pe_std)"
   ]
  },
  {
   "cell_type": "code",
   "execution_count": 31,
   "metadata": {},
   "outputs": [
    {
     "name": "stdout",
     "output_type": "stream",
     "text": [
      "21.5810689064\n",
      "4.41202165427\n"
     ]
    }
   ],
   "source": [
    "# Calculate mean and standard deviation\n",
    "cs_pe_mean = np.mean(cs_pe)\n",
    "cs_pe_std = np.std(cs_pe)\n",
    "\n",
    "print(cs_pe_mean)\n",
    "print(cs_pe_std)"
   ]
  },
  {
   "cell_type": "markdown",
   "metadata": {},
   "source": [
    "#### Plot P/E ratios\n",
    "The arrays it_pe and cs_pe from the previous exercise are available in your workspace. Also, each company name has been assigned a numeric ID contained in the arrays it_id and cs_id."
   ]
  },
  {
   "cell_type": "code",
   "execution_count": 34,
   "metadata": {},
   "outputs": [
    {
     "data": {
      "image/png": "[encoded data removed]",
      "text/plain": [
       "<matplotlib.figure.Figure at 0x1d9a2f664a8>"
      ]
     },
     "metadata": {},
     "output_type": "display_data"
    }
   ],
   "source": [
    "it_id = np.arange(0,15)\n",
    "cs_id = np.arange(0,12)\n",
    "# Make a scatterplot\n",
    "plt.scatter(it_id, it_pe, color='red', label='IT')\n",
    "plt.scatter(cs_id, cs_pe, color='green', label='CS')\n",
    "\n",
    "# Add legend\n",
    "plt.legend()\n",
    "\n",
    "# Add labels\n",
    "plt.xlabel('Company ID')\n",
    "plt.ylabel('P/E Ratio')\n",
    "plt.show()"
   ]
  },
  {
   "cell_type": "markdown",
   "metadata": {},
   "source": [
    "#### Histogram of P/E ratios"
   ]
  },
  {
   "cell_type": "code",
   "execution_count": 35,
   "metadata": {},
   "outputs": [
    {
     "data": {
      "image/png": "[encoded data removed]",
      "text/plain": [
       "<matplotlib.figure.Figure at 0x1d9a2f5ce80>"
      ]
     },
     "metadata": {},
     "output_type": "display_data"
    }
   ],
   "source": [
    "# Import matplotlib.pyplot with the alias plt\n",
    "import matplotlib.pyplot as plt\n",
    "\n",
    "# Plot histogram \n",
    "plt.hist(it_pe, bins=8)\n",
    "\n",
    "# Add x-label\n",
    "plt.xlabel('P/E ratio')\n",
    "\n",
    "# Add y-label\n",
    "plt.ylabel('Frequency')\n",
    "\n",
    "# Show plot\n",
    "plt.show()"
   ]
  },
  {
   "cell_type": "code",
   "execution_count": 47,
   "metadata": {},
   "outputs": [
    {
     "name": "stdout",
     "output_type": "stream",
     "text": [
      "In 2017, 80    Paypal Holdings\n",
      "Name: Name, dtype: object had an abnormally high P/E ratio of 54.68.\n"
     ]
    }
   ],
   "source": [
    "# Identify P/E ratio within it_pe that is > 50\n",
    "outlier_price = it_pe[it_pe > 50]\n",
    "\n",
    "# Identify it_names that have PE ratio > 50\n",
    "outlier_name = it_names[it_pe > 50]\n",
    "\n",
    "# Display results\n",
    "print(\"In 2017, \" + str(outlier_name) + \" had an abnormally high P/E ratio of \" + str(round(outlier_price[0], 2)) + \".\")"
   ]
  },
  {
   "cell_type": "code",
   "execution_count": null,
   "metadata": {
    "collapsed": true
   },
   "outputs": [],
   "source": []
  }
 ],
 "metadata": {
  "kernelspec": {
   "display_name": "Python 3",
   "language": "python",
   "name": "python3"
  },
  "language_info": {
   "codemirror_mode": {
    "name": "ipython",
    "version": 3
   },
   "file_extension": ".py",
   "mimetype": "text/x-python",
   "name": "python",
   "nbconvert_exporter": "python",
   "pygments_lexer": "ipython3",
   "version": "3.6.1"
  }
 },
 "nbformat": 4,
 "nbformat_minor": 2
}
